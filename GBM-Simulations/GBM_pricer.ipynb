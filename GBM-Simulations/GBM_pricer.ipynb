{
 "cells": [
  {
   "cell_type": "code",
   "execution_count": 1,
   "id": "ec2533cc-fca8-4b93-a482-b1867a2e62cb",
   "metadata": {},
   "outputs": [
    {
     "name": "stdout",
     "output_type": "stream",
     "text": [
      "S(t) = 448.1689070338065\n"
     ]
    }
   ],
   "source": [
    "import numpy as np\n",
    "\n",
    "class GBM_formula:\n",
    "    def __init__(self, S_0, mu, sigma, t, W_t):\n",
    "        self.S_0 = S_0      # Initial stock price\n",
    "        self.mu = mu        # Drift\n",
    "        self.sigma = sigma  # Volatility\n",
    "        self.t = t          # Time\n",
    "        self.W_t = W_t      # Brownian motion value at time t\n",
    "\n",
    "    def calculate_S_t(self):\n",
    "        S_t = self.S_0 * np.exp((self.mu - 0.5 * self.sigma**2) * self.t + self.sigma * self.W_t)\n",
    "        return S_t\n",
    "\n",
    "# Example usage:\n",
    "S_0 = 100\n",
    "mu = 0.05\n",
    "sigma = 0.2\n",
    "t = 50\n",
    "W_t = 0.00 # mean of Brownian motion is zero\n",
    "\n",
    "gbm = GBM_formula(S_0, mu, sigma, t, W_t)\n",
    "S_t = gbm.calculate_S_t()\n",
    "print(f\"S(t) = {S_t}\")\n"
   ]
  },
  {
   "cell_type": "code",
   "execution_count": null,
   "id": "8883ba2a-e581-42a1-9ddc-303b6dc2ac2f",
   "metadata": {},
   "outputs": [],
   "source": []
  }
 ],
 "metadata": {
  "kernelspec": {
   "display_name": "Python 3 (ipykernel)",
   "language": "python",
   "name": "python3"
  },
  "language_info": {
   "codemirror_mode": {
    "name": "ipython",
    "version": 3
   },
   "file_extension": ".py",
   "mimetype": "text/x-python",
   "name": "python",
   "nbconvert_exporter": "python",
   "pygments_lexer": "ipython3",
   "version": "3.12.7"
  }
 },
 "nbformat": 4,
 "nbformat_minor": 5
}
